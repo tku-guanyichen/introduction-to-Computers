{
  "nbformat": 4,
  "nbformat_minor": 0,
  "metadata": {
    "colab": {
      "name": "Untitled2.ipynb",
      "provenance": [],
      "authorship_tag": "ABX9TyP8ejhq4FCGtA71OazQbFcs",
      "include_colab_link": true
    },
    "kernelspec": {
      "name": "python3",
      "display_name": "Python 3"
    },
    "language_info": {
      "name": "python"
    }
  },
  "cells": [
    {
      "cell_type": "markdown",
      "metadata": {
        "id": "view-in-github",
        "colab_type": "text"
      },
      "source": [
        "<a href=\"https://colab.research.google.com/github/tku-guanyichen/introduction-to-Computers/blob/main/0601.ipynb\" target=\"_parent\"><img src=\"https://colab.research.google.com/assets/colab-badge.svg\" alt=\"Open In Colab\"/></a>"
      ]
    },
    {
      "cell_type": "code",
      "execution_count": 13,
      "metadata": {
        "colab": {
          "base_uri": "https://localhost:8080/",
          "height": 132
        },
        "id": "DkF5aAAW6ZcL",
        "outputId": "05dc1056-9ab7-49b8-d034-9f5e135be5a6"
      },
      "outputs": [
        {
          "output_type": "error",
          "ename": "SyntaxError",
          "evalue": "ignored",
          "traceback": [
            "\u001b[0;36m  File \u001b[0;32m\"<ipython-input-13-999f72f3f756>\"\u001b[0;36m, line \u001b[0;32m4\u001b[0m\n\u001b[0;31m    if i%3 == 0 or i%7 == 0\u001b[0m\n\u001b[0m                           ^\u001b[0m\n\u001b[0;31mSyntaxError\u001b[0m\u001b[0;31m:\u001b[0m invalid syntax\n"
          ]
        }
      ],
      "source": [
        "sum = 1\n",
        "test = int(input('輸入一個正整數:'))\n",
        "for i in range(1,test+1):\n",
        "    if i%3 == 0 or i%7 == 0\n",
        "    sum = sum + i\n",
        "    print('1到',test,'的整數和為',sum)"
      ]
    },
    {
      "cell_type": "code",
      "execution_count": 14,
      "metadata": {
        "colab": {
          "base_uri": "https://localhost:8080/",
          "height": 132
        },
        "outputId": "39833a0b-2589-486c-e4ec-174bafacd42a",
        "id": "PuMV3fzaDqbg"
      },
      "outputs": [
        {
          "output_type": "error",
          "ename": "SyntaxError",
          "evalue": "ignored",
          "traceback": [
            "\u001b[0;36m  File \u001b[0;32m\"<ipython-input-14-65f6b6afd248>\"\u001b[0;36m, line \u001b[0;32m4\u001b[0m\n\u001b[0;31m    if i%2 == 0\u001b[0m\n\u001b[0m               ^\u001b[0m\n\u001b[0;31mSyntaxError\u001b[0m\u001b[0;31m:\u001b[0m invalid syntax\n"
          ]
        }
      ],
      "source": [
        "sum = 0\n",
        "test = int(input('輸入一個正整數:'))\n",
        "for i in range(0,test+1):   \n",
        "    if i%2 == 0\n",
        "    sum = sum + i\n",
        "    if i%2 != 0\n",
        "    sum = sum + i\n",
        "    print('0到',test,'的偶數和為','0到',test,'的奇數和為',sum)"
      ]
    },
    {
      "cell_type": "code",
      "source": [
        "n = int(input('輸入一個正整數:'))\n",
        "for i in range(n):\n",
        "    for j in range(n-i):\n",
        "        print('*',end='')\n",
        "    print('\\n',end='')"
      ],
      "metadata": {
        "colab": {
          "base_uri": "https://localhost:8080/"
        },
        "id": "SYs5w5CcHTvW",
        "outputId": "122f6ee2-fc27-4a4f-b2e4-11948d8e523a"
      },
      "execution_count": 12,
      "outputs": [
        {
          "output_type": "stream",
          "name": "stdout",
          "text": [
            "輸入一個正整數:5\n",
            "*****\n",
            "****\n",
            "***\n",
            "**\n",
            "*\n"
          ]
        }
      ]
    },
    {
      "cell_type": "code",
      "source": [
        "n = int(input('輸入一個正整數:'))\n",
        "for i in range(n):\n",
        "    for j in range(n-i):\n",
        "        print('*',end='')\n",
        "    print('\\n',end='')"
      ],
      "metadata": {
        "colab": {
          "base_uri": "https://localhost:8080/"
        },
        "outputId": "cf5b8596-46b0-49e1-b84e-3fa8a1dd2023",
        "id": "jQdE_7chU1TO"
      },
      "execution_count": 15,
      "outputs": [
        {
          "output_type": "stream",
          "name": "stdout",
          "text": [
            "輸入一個正整數:7\n",
            "*******\n",
            "******\n",
            "*****\n",
            "****\n",
            "***\n",
            "**\n",
            "*\n"
          ]
        }
      ]
    }
  ]
}