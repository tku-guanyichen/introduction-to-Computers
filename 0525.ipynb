{
  "nbformat": 4,
  "nbformat_minor": 0,
  "metadata": {
    "colab": {
      "name": "0525.ipynb",
      "provenance": [],
      "authorship_tag": "ABX9TyMda0TIZ+9OxhpZu7wdFQK0",
      "include_colab_link": true
    },
    "kernelspec": {
      "name": "python3",
      "display_name": "Python 3"
    },
    "language_info": {
      "name": "python"
    }
  },
  "cells": [
    {
      "cell_type": "markdown",
      "metadata": {
        "id": "view-in-github",
        "colab_type": "text"
      },
      "source": [
        "<a href=\"https://colab.research.google.com/github/tku-guanyichen/introduction-to-Computers/blob/main/0525.ipynb\" target=\"_parent\"><img src=\"https://colab.research.google.com/assets/colab-badge.svg\" alt=\"Open In Colab\"/></a>"
      ]
    },
    {
      "cell_type": "code",
      "execution_count": 10,
      "metadata": {
        "colab": {
          "base_uri": "https://localhost:8080/",
          "height": 132
        },
        "id": "eN3zNU8zCfsi",
        "outputId": "103bdeda-d089-4933-d4e0-16f875bb3fee"
      },
      "outputs": [
        {
          "output_type": "error",
          "ename": "SyntaxError",
          "evalue": "ignored",
          "traceback": [
            "\u001b[0;36m  File \u001b[0;32m\"<ipython-input-10-9ac469081ad8>\"\u001b[0;36m, line \u001b[0;32m3\u001b[0m\n\u001b[0;31m    for i in range(1,12)\u001b[0m\n\u001b[0m                        ^\u001b[0m\n\u001b[0;31mSyntaxError\u001b[0m\u001b[0;31m:\u001b[0m invalid syntax\n"
          ]
        }
      ],
      "source": [
        "j = 1\n",
        "i = int(input('輸入一個正整數:'))\n",
        "for i in range(1,12)\n",
        "    if i%5 != 0\n",
        "    print(i)\n",
        "    j += 1"
      ]
    },
    {
      "cell_type": "code",
      "execution_count": null,
      "metadata": {
        "colab": {
          "base_uri": "https://localhost:8080/",
          "height": 132
        },
        "outputId": "d62808a1-8807-4ce2-b0db-1b87e8ed2b98",
        "id": "JhWRVaheXMIc"
      },
      "outputs": [
        {
          "output_type": "error",
          "ename": "SyntaxError",
          "evalue": "ignored",
          "traceback": [
            "\u001b[0;36m  File \u001b[0;32m\"<ipython-input-5-1c4b6756e5a1>\"\u001b[0;36m, line \u001b[0;32m2\u001b[0m\n\u001b[0;31m    for i in range(1,12)\u001b[0m\n\u001b[0m                        ^\u001b[0m\n\u001b[0;31mSyntaxError\u001b[0m\u001b[0;31m:\u001b[0m invalid syntax\n"
          ]
        }
      ],
      "source": [
        "j = 1\n",
        "i = int(input('輸入一個正整數:'))\n",
        "for i in range(1,21)\n",
        "    if i%5 != 0\n",
        "    print(i)\n",
        "    j += 1"
      ]
    },
    {
      "cell_type": "code",
      "source": [
        "x = int(input('輸入一個正整數:'))\n",
        "y = int(input('輸入一個正整數:'))\n",
        "if x>y:\n",
        "  c=x\n",
        "else:\n",
        "  c=y\n",
        "m = (x+)1*(y+1)\n",
        "for k in range (c,m):\n",
        "  if k&x == 0 and k%y == 0:\n",
        "    print(k)\n",
        "    break\n",
        "    "
      ],
      "metadata": {
        "colab": {
          "base_uri": "https://localhost:8080/"
        },
        "id": "7gkOrnidKXqO",
        "outputId": "1b4807da-0bda-42dc-8af2-894f7ab83ee8"
      },
      "execution_count": 11,
      "outputs": [
        {
          "output_type": "stream",
          "name": "stdout",
          "text": [
            "輸入一個正整數:4\n",
            "輸入一個正整數:6\n",
            "18\n"
          ]
        }
      ]
    },
    {
      "cell_type": "code",
      "source": [
        "x = int(input('輸入一個正整數:'))\n",
        "y = int(input('輸入一個正整數:'))\n",
        "if x>y:\n",
        "  c=x\n",
        "else:\n",
        "  c=y\n",
        "m = (x+1)*(y+1)\n",
        "for k in range (c,m):\n",
        "  if k&x == 0 and k%y == 0:\n",
        "    print(k)\n",
        "    break\n",
        "    "
      ],
      "metadata": {
        "colab": {
          "base_uri": "https://localhost:8080/"
        },
        "outputId": "a620d0b1-72ed-490b-d214-01de3fcd8a18",
        "id": "SuAia2jITvG4"
      },
      "execution_count": 14,
      "outputs": [
        {
          "output_type": "stream",
          "name": "stdout",
          "text": [
            "輸入一個正整數:9\n",
            "輸入一個正整數:15\n",
            "150\n"
          ]
        }
      ]
    }
  ]
}